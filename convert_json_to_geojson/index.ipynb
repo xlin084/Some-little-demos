{
 "cells": [
  {
   "cell_type": "code",
   "execution_count": 1,
   "metadata": {},
   "outputs": [],
   "source": [
    "import json"
   ]
  },
  {
   "cell_type": "code",
   "execution_count": 3,
   "metadata": {},
   "outputs": [],
   "source": [
    "with open(\"./2017LiquorLicence.json\", \"r\") as f:\n",
    "    data = json.load(f)"
   ]
  },
  {
   "cell_type": "code",
   "execution_count": 9,
   "metadata": {},
   "outputs": [
    {
     "data": {
      "text/plain": [
       "21241"
      ]
     },
     "execution_count": 9,
     "metadata": {},
     "output_type": "execute_result"
    }
   ],
   "source": [
    "len(data['rows'])"
   ]
  },
  {
   "cell_type": "code",
   "execution_count": 10,
   "metadata": {},
   "outputs": [],
   "source": [
    "def convert_to_geojson(json_data):\n",
    "    geojson = {\n",
    "        \"type\": \"Feature\",\n",
    "        \"geometry\": {\n",
    "            \"type\": \"Point\",\n",
    "            \"coordinates\": json_data['value'][::-1]\n",
    "        },\n",
    "        \"properties\": {\n",
    "            \"name\": json_data['key']\n",
    "        }\n",
    "    }\n",
    "    return geojson\n",
    "\n",
    "geojson_data = {\"type\": \"FeatureCollection\", \"features\": []}  # 初始化一个GeoJSON对象，类型为FeatureCollection\n",
    "\n",
    "for row in data['rows']:\n",
    "    geojson = convert_to_geojson(row)\n",
    "    geojson_data['features'].append(geojson)  \n",
    "\n",
    "with open(\"./2017Liquor.geojson\", \"w\") as f:  \n",
    "    json.dump(geojson_data, f) \n",
    "\n"
   ]
  },
  {
   "cell_type": "code",
   "execution_count": null,
   "metadata": {},
   "outputs": [],
   "source": []
  }
 ],
 "metadata": {
  "kernelspec": {
   "display_name": "base",
   "language": "python",
   "name": "python3"
  },
  "language_info": {
   "codemirror_mode": {
    "name": "ipython",
    "version": 3
   },
   "file_extension": ".py",
   "mimetype": "text/x-python",
   "name": "python",
   "nbconvert_exporter": "python",
   "pygments_lexer": "ipython3",
   "version": "3.9.12"
  },
  "orig_nbformat": 4
 },
 "nbformat": 4,
 "nbformat_minor": 2
}
